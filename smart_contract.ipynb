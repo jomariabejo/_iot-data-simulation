{
 "cells": [
  {
   "metadata": {},
   "cell_type": "markdown",
   "source": [
    "# Check if Python is successfully connected to the blockchain\n",
    "Also make sure that Ganache is running in the background. Open the app on your desktop to ensure it’s running."
   ],
   "id": "840aa56572e4f128"
  },
  {
   "metadata": {
    "ExecuteTime": {
     "end_time": "2025-05-18T15:48:42.118367Z",
     "start_time": "2025-05-18T15:48:42.097419Z"
    }
   },
   "cell_type": "code",
   "source": [
    "from web3 import Web3\n",
    "\n",
    "\n",
    "# Connect to local Ganache blockchain\n",
    "ganache_url = \"http://127.0.0.1:7545\"\n",
    "web3 = Web3(Web3.HTTPProvider(ganache_url))\n",
    "\n",
    "\n",
    "if web3.is_connected():\n",
    "    print(\"✅ Connected to Ganache successfully!\")\n",
    "else:\n",
    "    print(\"❌ Connection failed. Ensure Ganache is running.\")"
   ],
   "id": "initial_id",
   "outputs": [
    {
     "name": "stdout",
     "output_type": "stream",
     "text": [
      "✅ Connected to Ganache successfully!\n"
     ]
    }
   ],
   "execution_count": 20
  },
  {
   "metadata": {},
   "cell_type": "code",
   "outputs": [],
   "execution_count": null,
   "source": "# Retrieve and paste the contract address and ABI from Remix IDE\n",
   "id": "1069bf142ad5035e"
  },
  {
   "metadata": {
    "ExecuteTime": {
     "end_time": "2025-05-18T15:48:43.239213Z",
     "start_time": "2025-05-18T15:48:43.222446Z"
    }
   },
   "cell_type": "code",
   "source": [
    "# Replace with actual contract address from Remix\n",
    "contract_address = \"0x7EF2e0048f5bAeDe046f6BF797943daF4ED8CB47\"\n",
    "\n",
    "\n",
    "# Paste the ABI from Remix\n",
    "abi = [\n",
    "\t{\n",
    "\t\t\"inputs\": [],\n",
    "\t\t\"stateMutability\": \"nonpayable\",\n",
    "\t\t\"type\": \"constructor\"\n",
    "\t},\n",
    "\t{\n",
    "\t\t\"anonymous\": False,\n",
    "\t\t\"inputs\": [\n",
    "\t\t\t{\n",
    "\t\t\t\t\"indexed\": False,\n",
    "\t\t\t\t\"internalType\": \"uint256\",\n",
    "\t\t\t\t\"name\": \"timestamp\",\n",
    "\t\t\t\t\"type\": \"uint256\"\n",
    "\t\t\t},\n",
    "\t\t\t{\n",
    "\t\t\t\t\"indexed\": False,\n",
    "\t\t\t\t\"internalType\": \"string\",\n",
    "\t\t\t\t\"name\": \"deviceId\",\n",
    "\t\t\t\t\"type\": \"string\"\n",
    "\t\t\t},\n",
    "\t\t\t{\n",
    "\t\t\t\t\"indexed\": False,\n",
    "\t\t\t\t\"internalType\": \"string\",\n",
    "\t\t\t\t\"name\": \"dataType\",\n",
    "\t\t\t\t\"type\": \"string\"\n",
    "\t\t\t},\n",
    "\t\t\t{\n",
    "\t\t\t\t\"indexed\": False,\n",
    "\t\t\t\t\"internalType\": \"string\",\n",
    "\t\t\t\t\"name\": \"dataValue\",\n",
    "\t\t\t\t\"type\": \"string\"\n",
    "\t\t\t}\n",
    "\t\t],\n",
    "\t\t\"name\": \"DataStored\",\n",
    "\t\t\"type\": \"event\"\n",
    "\t},\n",
    "\t{\n",
    "\t\t\"inputs\": [],\n",
    "\t\t\"name\": \"MAX_ENTRIES\",\n",
    "\t\t\"outputs\": [\n",
    "\t\t\t{\n",
    "\t\t\t\t\"internalType\": \"uint256\",\n",
    "\t\t\t\t\"name\": \"\",\n",
    "\t\t\t\t\"type\": \"uint256\"\n",
    "\t\t\t}\n",
    "\t\t],\n",
    "\t\t\"stateMutability\": \"view\",\n",
    "\t\t\"type\": \"function\"\n",
    "\t},\n",
    "\t{\n",
    "\t\t\"inputs\": [\n",
    "\t\t\t{\n",
    "\t\t\t\t\"internalType\": \"uint256\",\n",
    "\t\t\t\t\"name\": \"\",\n",
    "\t\t\t\t\"type\": \"uint256\"\n",
    "\t\t\t}\n",
    "\t\t],\n",
    "\t\t\"name\": \"dataRecords\",\n",
    "\t\t\"outputs\": [\n",
    "\t\t\t{\n",
    "\t\t\t\t\"internalType\": \"uint256\",\n",
    "\t\t\t\t\"name\": \"timestamp\",\n",
    "\t\t\t\t\"type\": \"uint256\"\n",
    "\t\t\t},\n",
    "\t\t\t{\n",
    "\t\t\t\t\"internalType\": \"string\",\n",
    "\t\t\t\t\"name\": \"deviceId\",\n",
    "\t\t\t\t\"type\": \"string\"\n",
    "\t\t\t},\n",
    "\t\t\t{\n",
    "\t\t\t\t\"internalType\": \"string\",\n",
    "\t\t\t\t\"name\": \"dataType\",\n",
    "\t\t\t\t\"type\": \"string\"\n",
    "\t\t\t},\n",
    "\t\t\t{\n",
    "\t\t\t\t\"internalType\": \"string\",\n",
    "\t\t\t\t\"name\": \"dataValue\",\n",
    "\t\t\t\t\"type\": \"string\"\n",
    "\t\t\t}\n",
    "\t\t],\n",
    "\t\t\"stateMutability\": \"view\",\n",
    "\t\t\"type\": \"function\"\n",
    "\t},\n",
    "\t{\n",
    "\t\t\"inputs\": [\n",
    "\t\t\t{\n",
    "\t\t\t\t\"internalType\": \"uint256\",\n",
    "\t\t\t\t\"name\": \"index\",\n",
    "\t\t\t\t\"type\": \"uint256\"\n",
    "\t\t\t}\n",
    "\t\t],\n",
    "\t\t\"name\": \"getRecord\",\n",
    "\t\t\"outputs\": [\n",
    "\t\t\t{\n",
    "\t\t\t\t\"internalType\": \"uint256\",\n",
    "\t\t\t\t\"name\": \"\",\n",
    "\t\t\t\t\"type\": \"uint256\"\n",
    "\t\t\t},\n",
    "\t\t\t{\n",
    "\t\t\t\t\"internalType\": \"string\",\n",
    "\t\t\t\t\"name\": \"\",\n",
    "\t\t\t\t\"type\": \"string\"\n",
    "\t\t\t},\n",
    "\t\t\t{\n",
    "\t\t\t\t\"internalType\": \"string\",\n",
    "\t\t\t\t\"name\": \"\",\n",
    "\t\t\t\t\"type\": \"string\"\n",
    "\t\t\t},\n",
    "\t\t\t{\n",
    "\t\t\t\t\"internalType\": \"string\",\n",
    "\t\t\t\t\"name\": \"\",\n",
    "\t\t\t\t\"type\": \"string\"\n",
    "\t\t\t}\n",
    "\t\t],\n",
    "\t\t\"stateMutability\": \"view\",\n",
    "\t\t\"type\": \"function\"\n",
    "\t},\n",
    "\t{\n",
    "\t\t\"inputs\": [],\n",
    "\t\t\"name\": \"getTotalRecords\",\n",
    "\t\t\"outputs\": [\n",
    "\t\t\t{\n",
    "\t\t\t\t\"internalType\": \"uint256\",\n",
    "\t\t\t\t\"name\": \"\",\n",
    "\t\t\t\t\"type\": \"uint256\"\n",
    "\t\t\t}\n",
    "\t\t],\n",
    "\t\t\"stateMutability\": \"view\",\n",
    "\t\t\"type\": \"function\"\n",
    "\t},\n",
    "\t{\n",
    "\t\t\"inputs\": [],\n",
    "\t\t\"name\": \"owner\",\n",
    "\t\t\"outputs\": [\n",
    "\t\t\t{\n",
    "\t\t\t\t\"internalType\": \"address\",\n",
    "\t\t\t\t\"name\": \"\",\n",
    "\t\t\t\t\"type\": \"address\"\n",
    "\t\t\t}\n",
    "\t\t],\n",
    "\t\t\"stateMutability\": \"view\",\n",
    "\t\t\"type\": \"function\"\n",
    "\t},\n",
    "\t{\n",
    "\t\t\"inputs\": [\n",
    "\t\t\t{\n",
    "\t\t\t\t\"internalType\": \"string\",\n",
    "\t\t\t\t\"name\": \"_deviceId\",\n",
    "\t\t\t\t\"type\": \"string\"\n",
    "\t\t\t},\n",
    "\t\t\t{\n",
    "\t\t\t\t\"internalType\": \"string\",\n",
    "\t\t\t\t\"name\": \"_dataType\",\n",
    "\t\t\t\t\"type\": \"string\"\n",
    "\t\t\t},\n",
    "\t\t\t{\n",
    "\t\t\t\t\"internalType\": \"string\",\n",
    "\t\t\t\t\"name\": \"_dataValue\",\n",
    "\t\t\t\t\"type\": \"string\"\n",
    "\t\t\t}\n",
    "\t\t],\n",
    "\t\t\"name\": \"storeData\",\n",
    "\t\t\"outputs\": [],\n",
    "\t\t\"stateMutability\": \"nonpayable\",\n",
    "\t\t\"type\": \"function\"\n",
    "\t}\n",
    "]\n",
    "\n",
    "\n",
    "# Load the smart contract\n",
    "contract = web3.eth.contract(address=contract_address, abi=abi)\n",
    "\n",
    "\n",
    "# Set the default sender address (first account from Ganache)\n",
    "web3.eth.default_account = web3.eth.accounts[0]\n",
    "\n",
    "\n",
    "print(f\"✅ Connected to Smart Contract at {contract_address}\")\n"
   ],
   "id": "a17296e84303ca88",
   "outputs": [
    {
     "name": "stdout",
     "output_type": "stream",
     "text": [
      "✅ Connected to Smart Contract at 0xf8e81D47203A594245E36C48e151709F0C19fBe8\n"
     ]
    }
   ],
   "execution_count": 21
  },
  {
   "metadata": {},
   "cell_type": "markdown",
   "source": "# Call getTotalRecords() to check if the contract is responding.",
   "id": "39a593ce87d51db2"
  },
  {
   "metadata": {
    "ExecuteTime": {
     "end_time": "2025-05-18T15:57:32.709005Z",
     "start_time": "2025-05-18T15:57:32.677068Z"
    }
   },
   "cell_type": "code",
   "source": [
    "txn = contract.functions.storeData(\"TEST001\", \"Temperature\", \"22.5°C\").transact({\n",
    "    'from': web3.eth.default_account,\n",
    "    'gas': 1000000\n",
    "})\n",
    "web3.eth.wait_for_transaction_receipt(txn)\n",
    "print(\"✅ Dummy data stored on blockchain!\")"
   ],
   "id": "6bcae9943b0b05f",
   "outputs": [
    {
     "name": "stdout",
     "output_type": "stream",
     "text": [
      "✅ Dummy data stored on blockchain!\n"
     ]
    }
   ],
   "execution_count": 25
  },
  {
   "metadata": {},
   "cell_type": "markdown",
   "source": "# Verify if data retrieval works:",
   "id": "449f7d0c30dcfcbf"
  },
  {
   "metadata": {
    "ExecuteTime": {
     "end_time": "2025-05-18T15:57:31.010390Z",
     "start_time": "2025-05-18T15:57:30.887980Z"
    }
   },
   "cell_type": "code",
   "source": [
    "total_records = contract.functions.getTotalRecords().call()\n",
    "print(f\"Total Records: {total_records}\")\n",
    "\n",
    "\n",
    "record = contract.functions.getRecord(0).call()\n",
    "print(\"First Stored Record:\", record)"
   ],
   "id": "5b1aaee7e45204f4",
   "outputs": [
    {
     "ename": "BadFunctionCallOutput",
     "evalue": "Could not transact with/call contract function, is contract deployed correctly and chain synced?",
     "output_type": "error",
     "traceback": [
      "\u001B[1;31m---------------------------------------------------------------------------\u001B[0m",
      "\u001B[1;31mInsufficientDataBytes\u001B[0m                     Traceback (most recent call last)",
      "File \u001B[1;32m~\\miniconda3\\Lib\\site-packages\\web3\\contract\\utils.py:207\u001B[0m, in \u001B[0;36mcall_contract_function\u001B[1;34m(w3, address, normalizers, abi_element_identifier, transaction, block_id, contract_abi, abi_callable, state_override, ccip_read_enabled, decode_tuples, *args, **kwargs)\u001B[0m\n\u001B[0;32m    206\u001B[0m \u001B[38;5;28;01mtry\u001B[39;00m:\n\u001B[1;32m--> 207\u001B[0m     output_data \u001B[38;5;241m=\u001B[39m w3\u001B[38;5;241m.\u001B[39mcodec\u001B[38;5;241m.\u001B[39mdecode(output_types, return_data)\n\u001B[0;32m    208\u001B[0m \u001B[38;5;28;01mexcept\u001B[39;00m DecodingError \u001B[38;5;28;01mas\u001B[39;00m e:\n\u001B[0;32m    209\u001B[0m     \u001B[38;5;66;03m# Provide a more helpful error message than the one provided by\u001B[39;00m\n\u001B[0;32m    210\u001B[0m     \u001B[38;5;66;03m# eth-abi-utils\u001B[39;00m\n",
      "File \u001B[1;32m~\\miniconda3\\Lib\\site-packages\\eth_abi\\codec.py:162\u001B[0m, in \u001B[0;36mABIDecoder.decode\u001B[1;34m(self, types, data, strict)\u001B[0m\n\u001B[0;32m    160\u001B[0m stream \u001B[38;5;241m=\u001B[39m \u001B[38;5;28mself\u001B[39m\u001B[38;5;241m.\u001B[39mstream_class(data)\n\u001B[1;32m--> 162\u001B[0m \u001B[38;5;28;01mreturn\u001B[39;00m cast(Tuple[Any, \u001B[38;5;241m.\u001B[39m\u001B[38;5;241m.\u001B[39m\u001B[38;5;241m.\u001B[39m], decoder(stream))\n",
      "File \u001B[1;32m~\\miniconda3\\Lib\\site-packages\\eth_abi\\decoding.py:131\u001B[0m, in \u001B[0;36mBaseDecoder.__call__\u001B[1;34m(self, stream)\u001B[0m\n\u001B[0;32m    130\u001B[0m \u001B[38;5;28;01mdef\u001B[39;00m \u001B[38;5;21m__call__\u001B[39m(\u001B[38;5;28mself\u001B[39m, stream: ContextFramesBytesIO) \u001B[38;5;241m-\u001B[39m\u001B[38;5;241m>\u001B[39m Any:\n\u001B[1;32m--> 131\u001B[0m     \u001B[38;5;28;01mreturn\u001B[39;00m \u001B[38;5;28mself\u001B[39m\u001B[38;5;241m.\u001B[39mdecode(stream)\n",
      "File \u001B[1;32m~\\miniconda3\\Lib\\site-packages\\eth_utils\\functional.py:47\u001B[0m, in \u001B[0;36mapply_to_return_value.<locals>.outer.<locals>.inner\u001B[1;34m(*args, **kwargs)\u001B[0m\n\u001B[0;32m     45\u001B[0m \u001B[38;5;129m@functools\u001B[39m\u001B[38;5;241m.\u001B[39mwraps(fn)\n\u001B[0;32m     46\u001B[0m \u001B[38;5;28;01mdef\u001B[39;00m \u001B[38;5;21minner\u001B[39m(\u001B[38;5;241m*\u001B[39margs, \u001B[38;5;241m*\u001B[39m\u001B[38;5;241m*\u001B[39mkwargs) \u001B[38;5;241m-\u001B[39m\u001B[38;5;241m>\u001B[39m T:  \u001B[38;5;66;03m# type: ignore\u001B[39;00m\n\u001B[1;32m---> 47\u001B[0m     \u001B[38;5;28;01mreturn\u001B[39;00m callback(fn(\u001B[38;5;241m*\u001B[39margs, \u001B[38;5;241m*\u001B[39m\u001B[38;5;241m*\u001B[39mkwargs))\n",
      "File \u001B[1;32m~\\miniconda3\\Lib\\site-packages\\eth_abi\\decoding.py:224\u001B[0m, in \u001B[0;36mTupleDecoder.decode\u001B[1;34m(self, stream)\u001B[0m\n\u001B[0;32m    222\u001B[0m \u001B[38;5;129m@to_tuple\u001B[39m\n\u001B[0;32m    223\u001B[0m \u001B[38;5;28;01mdef\u001B[39;00m \u001B[38;5;21mdecode\u001B[39m(\u001B[38;5;28mself\u001B[39m, stream: ContextFramesBytesIO) \u001B[38;5;241m-\u001B[39m\u001B[38;5;241m>\u001B[39m Generator[Any, \u001B[38;5;28;01mNone\u001B[39;00m, \u001B[38;5;28;01mNone\u001B[39;00m]:\n\u001B[1;32m--> 224\u001B[0m     \u001B[38;5;28mself\u001B[39m\u001B[38;5;241m.\u001B[39mvalidate_pointers(stream)\n\u001B[0;32m    225\u001B[0m     \u001B[38;5;28;01mfor\u001B[39;00m decoder \u001B[38;5;129;01min\u001B[39;00m \u001B[38;5;28mself\u001B[39m\u001B[38;5;241m.\u001B[39mdecoders:\n",
      "File \u001B[1;32m~\\miniconda3\\Lib\\site-packages\\eth_abi\\decoding.py:218\u001B[0m, in \u001B[0;36mTupleDecoder.validate_pointers\u001B[1;34m(self, stream)\u001B[0m\n\u001B[0;32m    215\u001B[0m     \u001B[38;5;28;01melse\u001B[39;00m:\n\u001B[0;32m    216\u001B[0m         \u001B[38;5;66;03m# the next 32 bytes are not a pointer, so progress the stream per\u001B[39;00m\n\u001B[0;32m    217\u001B[0m         \u001B[38;5;66;03m# the decoder\u001B[39;00m\n\u001B[1;32m--> 218\u001B[0m         decoder(stream)\n\u001B[0;32m    219\u001B[0m \u001B[38;5;66;03m# return the stream to its original location for actual decoding\u001B[39;00m\n",
      "File \u001B[1;32m~\\miniconda3\\Lib\\site-packages\\eth_abi\\decoding.py:131\u001B[0m, in \u001B[0;36mBaseDecoder.__call__\u001B[1;34m(self, stream)\u001B[0m\n\u001B[0;32m    130\u001B[0m \u001B[38;5;28;01mdef\u001B[39;00m \u001B[38;5;21m__call__\u001B[39m(\u001B[38;5;28mself\u001B[39m, stream: ContextFramesBytesIO) \u001B[38;5;241m-\u001B[39m\u001B[38;5;241m>\u001B[39m Any:\n\u001B[1;32m--> 131\u001B[0m     \u001B[38;5;28;01mreturn\u001B[39;00m \u001B[38;5;28mself\u001B[39m\u001B[38;5;241m.\u001B[39mdecode(stream)\n",
      "File \u001B[1;32m~\\miniconda3\\Lib\\site-packages\\eth_abi\\decoding.py:250\u001B[0m, in \u001B[0;36mSingleDecoder.decode\u001B[1;34m(self, stream)\u001B[0m\n\u001B[0;32m    249\u001B[0m \u001B[38;5;28;01mdef\u001B[39;00m \u001B[38;5;21mdecode\u001B[39m(\u001B[38;5;28mself\u001B[39m, stream):\n\u001B[1;32m--> 250\u001B[0m     raw_data \u001B[38;5;241m=\u001B[39m \u001B[38;5;28mself\u001B[39m\u001B[38;5;241m.\u001B[39mread_data_from_stream(stream)\n\u001B[0;32m    251\u001B[0m     data, padding_bytes \u001B[38;5;241m=\u001B[39m \u001B[38;5;28mself\u001B[39m\u001B[38;5;241m.\u001B[39msplit_data_and_padding(raw_data)\n",
      "File \u001B[1;32m~\\miniconda3\\Lib\\site-packages\\eth_abi\\decoding.py:389\u001B[0m, in \u001B[0;36mFixedByteSizeDecoder.read_data_from_stream\u001B[1;34m(self, stream)\u001B[0m\n\u001B[0;32m    388\u001B[0m \u001B[38;5;28;01mif\u001B[39;00m \u001B[38;5;28mlen\u001B[39m(data) \u001B[38;5;241m!=\u001B[39m \u001B[38;5;28mself\u001B[39m\u001B[38;5;241m.\u001B[39mdata_byte_size:\n\u001B[1;32m--> 389\u001B[0m     \u001B[38;5;28;01mraise\u001B[39;00m InsufficientDataBytes(\n\u001B[0;32m    390\u001B[0m         \u001B[38;5;124mf\u001B[39m\u001B[38;5;124m\"\u001B[39m\u001B[38;5;124mTried to read \u001B[39m\u001B[38;5;132;01m{\u001B[39;00m\u001B[38;5;28mself\u001B[39m\u001B[38;5;241m.\u001B[39mdata_byte_size\u001B[38;5;132;01m}\u001B[39;00m\u001B[38;5;124m bytes, \u001B[39m\u001B[38;5;124m\"\u001B[39m\n\u001B[0;32m    391\u001B[0m         \u001B[38;5;124mf\u001B[39m\u001B[38;5;124m\"\u001B[39m\u001B[38;5;124monly got \u001B[39m\u001B[38;5;132;01m{\u001B[39;00m\u001B[38;5;28mlen\u001B[39m(data)\u001B[38;5;132;01m}\u001B[39;00m\u001B[38;5;124m bytes.\u001B[39m\u001B[38;5;124m\"\u001B[39m\n\u001B[0;32m    392\u001B[0m     )\n\u001B[0;32m    394\u001B[0m \u001B[38;5;28;01mreturn\u001B[39;00m data\n",
      "\u001B[1;31mInsufficientDataBytes\u001B[0m: Tried to read 32 bytes, only got 0 bytes.",
      "\nThe above exception was the direct cause of the following exception:\n",
      "\u001B[1;31mBadFunctionCallOutput\u001B[0m                     Traceback (most recent call last)",
      "Cell \u001B[1;32mIn[24], line 1\u001B[0m\n\u001B[1;32m----> 1\u001B[0m total_records \u001B[38;5;241m=\u001B[39m contract\u001B[38;5;241m.\u001B[39mfunctions\u001B[38;5;241m.\u001B[39mgetTotalRecords()\u001B[38;5;241m.\u001B[39mcall()\n\u001B[0;32m      2\u001B[0m \u001B[38;5;28mprint\u001B[39m(\u001B[38;5;124mf\u001B[39m\u001B[38;5;124m\"\u001B[39m\u001B[38;5;124mTotal Records: \u001B[39m\u001B[38;5;132;01m{\u001B[39;00mtotal_records\u001B[38;5;132;01m}\u001B[39;00m\u001B[38;5;124m\"\u001B[39m)\n\u001B[0;32m      5\u001B[0m record \u001B[38;5;241m=\u001B[39m contract\u001B[38;5;241m.\u001B[39mfunctions\u001B[38;5;241m.\u001B[39mgetRecord(\u001B[38;5;241m0\u001B[39m)\u001B[38;5;241m.\u001B[39mcall()\n",
      "File \u001B[1;32m~\\miniconda3\\Lib\\site-packages\\web3\\contract\\contract.py:291\u001B[0m, in \u001B[0;36mContractFunction.call\u001B[1;34m(self, transaction, block_identifier, state_override, ccip_read_enabled)\u001B[0m\n\u001B[0;32m    287\u001B[0m block_id \u001B[38;5;241m=\u001B[39m parse_block_identifier(\u001B[38;5;28mself\u001B[39m\u001B[38;5;241m.\u001B[39mw3, block_identifier)\n\u001B[0;32m    289\u001B[0m abi_element_identifier \u001B[38;5;241m=\u001B[39m abi_to_signature(\u001B[38;5;28mself\u001B[39m\u001B[38;5;241m.\u001B[39mabi)\n\u001B[1;32m--> 291\u001B[0m \u001B[38;5;28;01mreturn\u001B[39;00m call_contract_function(\n\u001B[0;32m    292\u001B[0m     \u001B[38;5;28mself\u001B[39m\u001B[38;5;241m.\u001B[39mw3,\n\u001B[0;32m    293\u001B[0m     \u001B[38;5;28mself\u001B[39m\u001B[38;5;241m.\u001B[39maddress,\n\u001B[0;32m    294\u001B[0m     \u001B[38;5;28mself\u001B[39m\u001B[38;5;241m.\u001B[39m_return_data_normalizers,\n\u001B[0;32m    295\u001B[0m     abi_element_identifier,\n\u001B[0;32m    296\u001B[0m     call_transaction,\n\u001B[0;32m    297\u001B[0m     block_id,\n\u001B[0;32m    298\u001B[0m     \u001B[38;5;28mself\u001B[39m\u001B[38;5;241m.\u001B[39mcontract_abi,\n\u001B[0;32m    299\u001B[0m     \u001B[38;5;28mself\u001B[39m\u001B[38;5;241m.\u001B[39mabi,\n\u001B[0;32m    300\u001B[0m     state_override,\n\u001B[0;32m    301\u001B[0m     ccip_read_enabled,\n\u001B[0;32m    302\u001B[0m     \u001B[38;5;28mself\u001B[39m\u001B[38;5;241m.\u001B[39mdecode_tuples,\n\u001B[0;32m    303\u001B[0m     \u001B[38;5;241m*\u001B[39m\u001B[38;5;28mself\u001B[39m\u001B[38;5;241m.\u001B[39margs \u001B[38;5;129;01mor\u001B[39;00m (),\n\u001B[0;32m    304\u001B[0m     \u001B[38;5;241m*\u001B[39m\u001B[38;5;241m*\u001B[39m\u001B[38;5;28mself\u001B[39m\u001B[38;5;241m.\u001B[39mkwargs \u001B[38;5;129;01mor\u001B[39;00m {},\n\u001B[0;32m    305\u001B[0m )\n",
      "File \u001B[1;32m~\\miniconda3\\Lib\\site-packages\\web3\\contract\\utils.py:225\u001B[0m, in \u001B[0;36mcall_contract_function\u001B[1;34m(w3, address, normalizers, abi_element_identifier, transaction, block_id, contract_abi, abi_callable, state_override, ccip_read_enabled, decode_tuples, *args, **kwargs)\u001B[0m\n\u001B[0;32m    220\u001B[0m     \u001B[38;5;28;01melse\u001B[39;00m:\n\u001B[0;32m    221\u001B[0m         msg \u001B[38;5;241m=\u001B[39m (\n\u001B[0;32m    222\u001B[0m             \u001B[38;5;124mf\u001B[39m\u001B[38;5;124m\"\u001B[39m\u001B[38;5;124mCould not decode contract function call to \u001B[39m\u001B[38;5;132;01m{\u001B[39;00mabi_element_identifier\u001B[38;5;132;01m}\u001B[39;00m\u001B[38;5;124m \u001B[39m\u001B[38;5;124m\"\u001B[39m\n\u001B[0;32m    223\u001B[0m             \u001B[38;5;124mf\u001B[39m\u001B[38;5;124m\"\u001B[39m\u001B[38;5;124mwith return data: \u001B[39m\u001B[38;5;132;01m{\u001B[39;00m\u001B[38;5;28mstr\u001B[39m(return_data)\u001B[38;5;132;01m}\u001B[39;00m\u001B[38;5;124m, output_types: \u001B[39m\u001B[38;5;132;01m{\u001B[39;00moutput_types\u001B[38;5;132;01m}\u001B[39;00m\u001B[38;5;124m\"\u001B[39m\n\u001B[0;32m    224\u001B[0m         )\n\u001B[1;32m--> 225\u001B[0m     \u001B[38;5;28;01mraise\u001B[39;00m BadFunctionCallOutput(msg) \u001B[38;5;28;01mfrom\u001B[39;00m \u001B[38;5;21;01me\u001B[39;00m\n\u001B[0;32m    227\u001B[0m _normalizers \u001B[38;5;241m=\u001B[39m itertools\u001B[38;5;241m.\u001B[39mchain(\n\u001B[0;32m    228\u001B[0m     BASE_RETURN_NORMALIZERS,\n\u001B[0;32m    229\u001B[0m     normalizers,\n\u001B[0;32m    230\u001B[0m )\n\u001B[0;32m    231\u001B[0m normalized_data \u001B[38;5;241m=\u001B[39m map_abi_data(_normalizers, output_types, output_data)\n",
      "\u001B[1;31mBadFunctionCallOutput\u001B[0m: Could not transact with/call contract function, is contract deployed correctly and chain synced?"
     ]
    }
   ],
   "execution_count": 24
  }
 ],
 "metadata": {
  "kernelspec": {
   "display_name": "Python 3",
   "language": "python",
   "name": "python3"
  },
  "language_info": {
   "codemirror_mode": {
    "name": "ipython",
    "version": 2
   },
   "file_extension": ".py",
   "mimetype": "text/x-python",
   "name": "python",
   "nbconvert_exporter": "python",
   "pygments_lexer": "ipython2",
   "version": "2.7.6"
  }
 },
 "nbformat": 4,
 "nbformat_minor": 5
}
